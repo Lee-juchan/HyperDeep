{
 "cells": [
  {
   "cell_type": "code",
   "execution_count": 123,
   "metadata": {},
   "outputs": [],
   "source": [
    "# import\n",
    "import torch\n",
    "from torch import nn, optim\n",
    "from torch.nn.utils import prune\n",
    "from torch.utils.data import DataLoader\n",
    "\n",
    "from torchvision import datasets\n",
    "from torchvision.transforms import ToTensor\n",
    "from torchvision.transforms.functional import to_pil_image\n",
    "\n",
    "import matplotlib.pyplot as plt"
   ]
  },
  {
   "cell_type": "code",
   "execution_count": 124,
   "metadata": {},
   "outputs": [
    {
     "name": "stdout",
     "output_type": "stream",
     "text": [
      "Files already downloaded and verified\n",
      "Files already downloaded and verified\n"
     ]
    }
   ],
   "source": [
    "# load dataset\n",
    "'''transform 적용해보기'''\n",
    "d_tr = datasets.CIFAR10(root='./data', download=True, train=True, transform=ToTensor())\n",
    "d_ts = datasets.CIFAR10(root='./data', download=True, train=False, transform=ToTensor())\n",
    "\n",
    "# ToTensor : ndarray(or PIL) -> Tensor\n",
    "\n",
    "#       (H, W, C) -> (C, H, W)\n",
    "#       (0 ~ 255) -> (0 ~ 1)"
   ]
  },
  {
   "cell_type": "code",
   "execution_count": 125,
   "metadata": {},
   "outputs": [
    {
     "data": {
      "image/png": "[encoded data removed]",
      "text/plain": [
       "<Figure size 200x200 with 2 Axes>"
      ]
     },
     "metadata": {},
     "output_type": "display_data"
    }
   ],
   "source": [
    "# data check\n",
    "class_names = ['airplane', 'automobile', 'bird', 'cat', 'deer', 'dog', 'frog', 'horse', 'ship', 'truck']\n",
    "idx = 0\n",
    "x, y = d_tr[idx]\n",
    "x = to_pil_image(x) # Tensor -> PIL\n",
    "\n",
    "plt.figure(figsize=(2,2))\n",
    "plt.imshow(x)\n",
    "plt.colorbar()\n",
    "plt.xlabel(class_names[y])\n",
    "plt.show()"
   ]
  },
  {
   "cell_type": "code",
   "execution_count": 126,
   "metadata": {},
   "outputs": [],
   "source": [
    "# GPU device\n",
    "device = torch.device('mps') if torch.backends.mps.is_available() else torch.device('cpu') # 확실히 mps더 몇십배는 더 빠름"
   ]
  },
  {
   "cell_type": "code",
   "execution_count": 127,
   "metadata": {},
   "outputs": [
    {
     "data": {
      "text/plain": [
       "'\\n    입력    (1, 3, 32, 32)          = (batch, channels, H, W)\\n    합성곱  -> (1, 32, 30, 30)      필터 (32, 3, 3, 3) = (out_ch, in_ch, H, W)\\n    풀링    -> (1, 32, 15, 15)\\n\\n    합성곱  -> (1, 64, 13, 13)      필터 (64, 32, 3, 3)\\n    풀링    -> (1, 64, 6, 6)        왜 7,7이 아니라 6,6 일까? 남는 값은 버리나?\\n\\n    합성곱  -> (1, 128, 4, 4)        필터 (128, 64, 3, 3)\\n    평탄화  -> (1, 2048)\\n    밀집층  -> (1, 256)\\n    밀집층  -> (1, 10)\\n'"
      ]
     },
     "execution_count": 127,
     "metadata": {},
     "output_type": "execute_result"
    }
   ],
   "source": [
    "# model\n",
    "class CNN(nn.Module):\n",
    "    def __init__(self):\n",
    "        super().__init__()\n",
    "        self.conv1 = nn.Conv2d(in_channels=3, out_channels=32, kernel_size=3)\n",
    "        self.conv2 = nn.Conv2d(in_channels=32, out_channels=64, kernel_size=3)\n",
    "        self.conv3 = nn.Conv2d(in_channels=64, out_channels=128, kernel_size=3)\n",
    "        self.fc1 = nn.Linear(in_features=2048, out_features=256)\n",
    "        self.fc2 = nn.Linear(in_features=256, out_features=10)\n",
    "        self.flatten = nn.Flatten()\n",
    "        self.relu = nn.ReLU()\n",
    "        self.pool = nn.MaxPool2d(kernel_size=2)\n",
    "        self.droput = nn.Dropout(p=0.2)\n",
    "    \n",
    "    def forward(self, x):\n",
    "        x = self.pool(self.relu(self.conv1(x)))\n",
    "        x = self.droput(x)\n",
    "        x = self.pool(self.relu(self.conv2(x)))\n",
    "        x = self.droput(x)\n",
    "        x = self.relu(self.conv3(x))\n",
    "        x = self.droput(x)\n",
    "        x = self.flatten(x)\n",
    "        x = self.relu(self.fc1(x))\n",
    "        x = self.droput(x)\n",
    "        x = self.fc2(x)\n",
    "        return x\n",
    "'''\n",
    "    입력    (1, 3, 32, 32)          = (batch, channels, H, W)\n",
    "    합성곱  -> (1, 32, 30, 30)      필터 (32, 3, 3, 3) = (out_ch, in_ch, H, W)\n",
    "    풀링    -> (1, 32, 15, 15)\n",
    "\n",
    "    합성곱  -> (1, 64, 13, 13)      필터 (64, 32, 3, 3)\n",
    "    풀링    -> (1, 64, 6, 6)        왜 7,7이 아니라 6,6 일까? 남는 값은 버리나?\n",
    "\n",
    "    합성곱  -> (1, 128, 4, 4)        필터 (128, 64, 3, 3)\n",
    "    평탄화  -> (1, 2048)\n",
    "    밀집층  -> (1, 256)\n",
    "    밀집층  -> (1, 10)\n",
    "'''"
   ]
  },
  {
   "cell_type": "code",
   "execution_count": 128,
   "metadata": {},
   "outputs": [],
   "source": [
    "# train loop\n",
    "def train(dataloader, model, loss_fn, optimizer):\n",
    "    batch_size = dataloader.batch_size\n",
    "    num_batches = len(dataloader)\n",
    "    loss_tr = 0\n",
    "    acc_tr = 0\n",
    "\n",
    "    model.train() # 훈련모드\n",
    "    for X, y in dataloader:\n",
    "        X, y = X.to(device), y.to(device)\n",
    "\n",
    "        # 순전파\n",
    "        y_pred = model(X)\n",
    "        loss = loss_fn(y_pred, y)\n",
    "        \n",
    "        loss_tr += loss.item()  # item(): tensor 값 추출\n",
    "        acc_tr += (y_pred.argmax(1) == y).sum().item() / batch_size\n",
    "\n",
    "        # 역전파\n",
    "        loss.backward()         # 역전파\n",
    "        optimizer.step()        # 가중치 조정\n",
    "        optimizer.zero_grad()   # gradient 초기화 (안하면 중첩됨)\n",
    "\n",
    "    loss_tr /= num_batches\n",
    "    acc_tr /= num_batches\n",
    "    print(f'Tr loss: {loss_tr:>6f}, acc: {acc_tr:>4f}')\n",
    "\n",
    "    return loss_tr, acc_tr"
   ]
  },
  {
   "cell_type": "code",
   "execution_count": 129,
   "metadata": {},
   "outputs": [],
   "source": [
    "# test loop\n",
    "def test(dataloader, model, loss_fn):\n",
    "    batch_size = dataloader.batch_size\n",
    "    num_batches = len(dataloader)\n",
    "    loss_ts = 0\n",
    "    acc_ts = 0\n",
    "    \n",
    "    model.eval() # 평가모드\n",
    "    with torch.no_grad():           # 평가시, gradient 계산하지 않도록\n",
    "        for X, y in dataloader:\n",
    "            X, y = X.to(device), y.to(device)\n",
    "\n",
    "            # 순전파\n",
    "            y_pred = model(X)\n",
    "            loss = loss_fn(y_pred, y)\n",
    "\n",
    "            loss_ts += loss.item()\n",
    "            acc_ts += (y_pred.argmax(1) == y).sum().item() / batch_size\n",
    "\n",
    "    loss_ts /= num_batches\n",
    "    acc_ts /= num_batches\n",
    "    print(f\"Ts loss: {loss_ts:>6f}, acc: {acc_ts:>4f}\")\n",
    "\n",
    "    return loss_ts, acc_ts"
   ]
  },
  {
   "cell_type": "code",
   "execution_count": 130,
   "metadata": {},
   "outputs": [],
   "source": [
    "# weight initialization\n",
    "def init_weights(module):\n",
    "    if isinstance(module, nn.Conv2d) or isinstance(module, nn.Linear):\n",
    "        nn.init.kaiming_normal_(module.weight)"
   ]
  },
  {
   "cell_type": "code",
   "execution_count": 120,
   "metadata": {},
   "outputs": [],
   "source": [
    "# weight prunning\n",
    "def prune_weights(module, amount):\n",
    "    if isinstance(module, nn.Conv2d) or isinstance(module, nn.Linear):\n",
    "        prune.l1_unstructured(module, 'weight', amount=amount)\n",
    "\n",
    "# weight remove pruning\n",
    "def unprune_weighs(module):\n",
    "    if isinstance(module, nn.Conv2d) or isinstance(module, nn.Linear):\n",
    "        if hasattr(module, 'weight_orig'):  # pruning이 적용된 경우만 존재하는 속성\n",
    "            prune.remove(module, 'weight')"
   ]
  },
  {
   "cell_type": "code",
   "execution_count": 137,
   "metadata": {},
   "outputs": [],
   "source": [
    "# model init\n",
    "model = CNN()\n",
    "model = model.to(device)\n",
    "model.apply(init_weights)\n",
    "model.apply(unprune_weighs)\n",
    "\n",
    "#####################################################\n",
    "# hyper parameter\n",
    "lr = 2e-4\n",
    "batch_size = 128\n",
    "epochs = 200\n",
    "\n",
    "prune_term = 150\n",
    "prune_rate = 0.2\n",
    "\n",
    "loss_fn = nn.CrossEntropyLoss()\n",
    "optimizer = optim.Adam(model.parameters(), lr=lr)\n",
    "#####################################################\n",
    "\n",
    "# dataloader\n",
    "dl_tr = DataLoader(d_tr, batch_size=batch_size, shuffle=True, pin_memory=True) # pin_memory, pin_memory_device : gpu로드 속도를 높인다는데 어렵다.. 없는게 더 빠르다\n",
    "dl_ts = DataLoader(d_ts, batch_size=batch_size, shuffle=True, pin_memory=True)"
   ]
  },
  {
   "cell_type": "code",
   "execution_count": 138,
   "metadata": {},
   "outputs": [
    {
     "name": "stdout",
     "output_type": "stream",
     "text": [
      "Epoch 1\n",
      "Tr loss: 2.090835, acc: 0.231278\n",
      "Ts loss: 1.820783, acc: 0.349881\n",
      "-------------------------------\n",
      "Epoch 2\n",
      "Tr loss: 1.717887, acc: 0.370944\n",
      "Ts loss: 1.650004, acc: 0.429292\n",
      "-------------------------------\n",
      "Epoch 3\n",
      "Tr loss: 1.567676, acc: 0.429088\n",
      "Ts loss: 1.540670, acc: 0.473695\n",
      "-------------------------------\n",
      "Epoch 4\n",
      "Tr loss: 1.479201, acc: 0.462096\n",
      "Ts loss: 1.439053, acc: 0.509494\n",
      "-------------------------------\n",
      "Epoch 5\n"
     ]
    },
    {
     "ename": "KeyboardInterrupt",
     "evalue": "",
     "output_type": "error",
     "traceback": [
      "\u001b[0;31m---------------------------------------------------------------------------\u001b[0m",
      "\u001b[0;31mKeyboardInterrupt\u001b[0m                         Traceback (most recent call last)",
      "Cell \u001b[0;32mIn[138], line 10\u001b[0m\n\u001b[1;32m      7\u001b[0m \u001b[38;5;28;01mfor\u001b[39;00m epoch \u001b[38;5;129;01min\u001b[39;00m \u001b[38;5;28mrange\u001b[39m(epochs):\n\u001b[1;32m      8\u001b[0m     \u001b[38;5;28mprint\u001b[39m(\u001b[38;5;124mf\u001b[39m\u001b[38;5;124m\"\u001b[39m\u001b[38;5;124mEpoch \u001b[39m\u001b[38;5;132;01m{\u001b[39;00mepoch\u001b[38;5;250m \u001b[39m\u001b[38;5;241m+\u001b[39m\u001b[38;5;250m \u001b[39m\u001b[38;5;241m1\u001b[39m\u001b[38;5;132;01m}\u001b[39;00m\u001b[38;5;124m\"\u001b[39m)\n\u001b[0;32m---> 10\u001b[0m     tr_loss, tr_acc \u001b[38;5;241m=\u001b[39m \u001b[43mtrain\u001b[49m\u001b[43m(\u001b[49m\u001b[43mdl_tr\u001b[49m\u001b[43m,\u001b[49m\u001b[43m \u001b[49m\u001b[43mmodel\u001b[49m\u001b[43m,\u001b[49m\u001b[43m \u001b[49m\u001b[43mloss_fn\u001b[49m\u001b[43m,\u001b[49m\u001b[43m \u001b[49m\u001b[43moptimizer\u001b[49m\u001b[43m)\u001b[49m\n\u001b[1;32m     11\u001b[0m     ts_loss, ts_acc \u001b[38;5;241m=\u001b[39m test(dl_ts, model, loss_fn)\n\u001b[1;32m     13\u001b[0m     tr_losses\u001b[38;5;241m.\u001b[39mappend(tr_loss)\n",
      "Cell \u001b[0;32mIn[128], line 20\u001b[0m, in \u001b[0;36mtrain\u001b[0;34m(dataloader, model, loss_fn, optimizer)\u001b[0m\n\u001b[1;32m     17\u001b[0m acc_tr \u001b[38;5;241m+\u001b[39m\u001b[38;5;241m=\u001b[39m (y_pred\u001b[38;5;241m.\u001b[39margmax(\u001b[38;5;241m1\u001b[39m) \u001b[38;5;241m==\u001b[39m y)\u001b[38;5;241m.\u001b[39msum()\u001b[38;5;241m.\u001b[39mitem() \u001b[38;5;241m/\u001b[39m batch_size\n\u001b[1;32m     19\u001b[0m \u001b[38;5;66;03m# 역전파\u001b[39;00m\n\u001b[0;32m---> 20\u001b[0m \u001b[43mloss\u001b[49m\u001b[38;5;241;43m.\u001b[39;49m\u001b[43mbackward\u001b[49m\u001b[43m(\u001b[49m\u001b[43m)\u001b[49m         \u001b[38;5;66;03m# 역전파\u001b[39;00m\n\u001b[1;32m     21\u001b[0m optimizer\u001b[38;5;241m.\u001b[39mstep()        \u001b[38;5;66;03m# 가중치 조정\u001b[39;00m\n\u001b[1;32m     22\u001b[0m optimizer\u001b[38;5;241m.\u001b[39mzero_grad()   \u001b[38;5;66;03m# gradient 초기화 (안하면 중첩됨)\u001b[39;00m\n",
      "File \u001b[0;32m/opt/homebrew/Caskroom/miniconda/base/envs/img2023/lib/python3.9/site-packages/torch/_tensor.py:525\u001b[0m, in \u001b[0;36mTensor.backward\u001b[0;34m(self, gradient, retain_graph, create_graph, inputs)\u001b[0m\n\u001b[1;32m    515\u001b[0m \u001b[38;5;28;01mif\u001b[39;00m has_torch_function_unary(\u001b[38;5;28mself\u001b[39m):\n\u001b[1;32m    516\u001b[0m     \u001b[38;5;28;01mreturn\u001b[39;00m handle_torch_function(\n\u001b[1;32m    517\u001b[0m         Tensor\u001b[38;5;241m.\u001b[39mbackward,\n\u001b[1;32m    518\u001b[0m         (\u001b[38;5;28mself\u001b[39m,),\n\u001b[0;32m   (...)\u001b[0m\n\u001b[1;32m    523\u001b[0m         inputs\u001b[38;5;241m=\u001b[39minputs,\n\u001b[1;32m    524\u001b[0m     )\n\u001b[0;32m--> 525\u001b[0m \u001b[43mtorch\u001b[49m\u001b[38;5;241;43m.\u001b[39;49m\u001b[43mautograd\u001b[49m\u001b[38;5;241;43m.\u001b[39;49m\u001b[43mbackward\u001b[49m\u001b[43m(\u001b[49m\n\u001b[1;32m    526\u001b[0m \u001b[43m    \u001b[49m\u001b[38;5;28;43mself\u001b[39;49m\u001b[43m,\u001b[49m\u001b[43m \u001b[49m\u001b[43mgradient\u001b[49m\u001b[43m,\u001b[49m\u001b[43m \u001b[49m\u001b[43mretain_graph\u001b[49m\u001b[43m,\u001b[49m\u001b[43m \u001b[49m\u001b[43mcreate_graph\u001b[49m\u001b[43m,\u001b[49m\u001b[43m \u001b[49m\u001b[43minputs\u001b[49m\u001b[38;5;241;43m=\u001b[39;49m\u001b[43minputs\u001b[49m\n\u001b[1;32m    527\u001b[0m \u001b[43m\u001b[49m\u001b[43m)\u001b[49m\n",
      "File \u001b[0;32m/opt/homebrew/Caskroom/miniconda/base/envs/img2023/lib/python3.9/site-packages/torch/autograd/__init__.py:267\u001b[0m, in \u001b[0;36mbackward\u001b[0;34m(tensors, grad_tensors, retain_graph, create_graph, grad_variables, inputs)\u001b[0m\n\u001b[1;32m    262\u001b[0m     retain_graph \u001b[38;5;241m=\u001b[39m create_graph\n\u001b[1;32m    264\u001b[0m \u001b[38;5;66;03m# The reason we repeat the same comment below is that\u001b[39;00m\n\u001b[1;32m    265\u001b[0m \u001b[38;5;66;03m# some Python versions print out the first line of a multi-line function\u001b[39;00m\n\u001b[1;32m    266\u001b[0m \u001b[38;5;66;03m# calls in the traceback and some print out the last line\u001b[39;00m\n\u001b[0;32m--> 267\u001b[0m \u001b[43m_engine_run_backward\u001b[49m\u001b[43m(\u001b[49m\n\u001b[1;32m    268\u001b[0m \u001b[43m    \u001b[49m\u001b[43mtensors\u001b[49m\u001b[43m,\u001b[49m\n\u001b[1;32m    269\u001b[0m \u001b[43m    \u001b[49m\u001b[43mgrad_tensors_\u001b[49m\u001b[43m,\u001b[49m\n\u001b[1;32m    270\u001b[0m \u001b[43m    \u001b[49m\u001b[43mretain_graph\u001b[49m\u001b[43m,\u001b[49m\n\u001b[1;32m    271\u001b[0m \u001b[43m    \u001b[49m\u001b[43mcreate_graph\u001b[49m\u001b[43m,\u001b[49m\n\u001b[1;32m    272\u001b[0m \u001b[43m    \u001b[49m\u001b[43minputs\u001b[49m\u001b[43m,\u001b[49m\n\u001b[1;32m    273\u001b[0m \u001b[43m    \u001b[49m\u001b[43mallow_unreachable\u001b[49m\u001b[38;5;241;43m=\u001b[39;49m\u001b[38;5;28;43;01mTrue\u001b[39;49;00m\u001b[43m,\u001b[49m\n\u001b[1;32m    274\u001b[0m \u001b[43m    \u001b[49m\u001b[43maccumulate_grad\u001b[49m\u001b[38;5;241;43m=\u001b[39;49m\u001b[38;5;28;43;01mTrue\u001b[39;49;00m\u001b[43m,\u001b[49m\n\u001b[1;32m    275\u001b[0m \u001b[43m\u001b[49m\u001b[43m)\u001b[49m\n",
      "File \u001b[0;32m/opt/homebrew/Caskroom/miniconda/base/envs/img2023/lib/python3.9/site-packages/torch/autograd/graph.py:744\u001b[0m, in \u001b[0;36m_engine_run_backward\u001b[0;34m(t_outputs, *args, **kwargs)\u001b[0m\n\u001b[1;32m    742\u001b[0m     unregister_hooks \u001b[38;5;241m=\u001b[39m _register_logging_hooks_on_whole_graph(t_outputs)\n\u001b[1;32m    743\u001b[0m \u001b[38;5;28;01mtry\u001b[39;00m:\n\u001b[0;32m--> 744\u001b[0m     \u001b[38;5;28;01mreturn\u001b[39;00m \u001b[43mVariable\u001b[49m\u001b[38;5;241;43m.\u001b[39;49m\u001b[43m_execution_engine\u001b[49m\u001b[38;5;241;43m.\u001b[39;49m\u001b[43mrun_backward\u001b[49m\u001b[43m(\u001b[49m\u001b[43m  \u001b[49m\u001b[38;5;66;43;03m# Calls into the C++ engine to run the backward pass\u001b[39;49;00m\n\u001b[1;32m    745\u001b[0m \u001b[43m        \u001b[49m\u001b[43mt_outputs\u001b[49m\u001b[43m,\u001b[49m\u001b[43m \u001b[49m\u001b[38;5;241;43m*\u001b[39;49m\u001b[43margs\u001b[49m\u001b[43m,\u001b[49m\u001b[43m \u001b[49m\u001b[38;5;241;43m*\u001b[39;49m\u001b[38;5;241;43m*\u001b[39;49m\u001b[43mkwargs\u001b[49m\n\u001b[1;32m    746\u001b[0m \u001b[43m    \u001b[49m\u001b[43m)\u001b[49m  \u001b[38;5;66;03m# Calls into the C++ engine to run the backward pass\u001b[39;00m\n\u001b[1;32m    747\u001b[0m \u001b[38;5;28;01mfinally\u001b[39;00m:\n\u001b[1;32m    748\u001b[0m     \u001b[38;5;28;01mif\u001b[39;00m attach_logging_hooks:\n",
      "\u001b[0;31mKeyboardInterrupt\u001b[0m: "
     ]
    }
   ],
   "source": [
    "# train/test\n",
    "tr_losses = []\n",
    "ts_losses = []\n",
    "ts_accs = []\n",
    "tr_accs = []\n",
    "\n",
    "for epoch in range(epochs):\n",
    "    print(f\"Epoch {epoch + 1}\")\n",
    "\n",
    "    tr_loss, tr_acc = train(dl_tr, model, loss_fn, optimizer)\n",
    "    ts_loss, ts_acc = test(dl_ts, model, loss_fn)\n",
    "    \n",
    "    tr_losses.append(tr_loss)\n",
    "    ts_losses.append(ts_loss)\n",
    "    tr_accs.append(tr_acc)\n",
    "    ts_accs.append(ts_acc)\n",
    "\n",
    "    if epoch % prune_term == 0:\n",
    "        model.apply(lambda m : prune_weights(m, amount=prune_rate))\n",
    "\n",
    "    print('-------------------------------')\n",
    "print(\"Done!\")"
   ]
  },
  {
   "cell_type": "markdown",
   "metadata": {},
   "source": [
    "# 01\n",
    "lr = 28e-5 / batch_size = 256 / epochs = 300\n",
    "prune_term = 50 / prune_rate = 30\n",
    "\n",
    "## lr\n",
    "그래프 상으로 lr이 크다.. 처음에 감소세가 너무 가파름\n",
    "-> 23r-5\n",
    "\n",
    "## prun \n",
    "50은 너무 좁다.. 최적화가 되기도 전에 prun 하는듯 \n",
    "이거 때문에 성능이 계속 떨어지나?? 정확도가 점점 떨어짐 // 하지만 train/test acc가 차이나지 않고 함께 떨어지고 있으니 과적합은 아니다.\n",
    "-> 100 (점점 prun rate 낮아지게)\n",
    "\n",
    "## epoch\n",
    "에폭 90에 71 돌입,, 이후로 71~73 왔다갔다.\n",
    "-> 그래도 00\n",
    "\n",
    "## regularization\n",
    "너무 심한듯.. train/test가 너무 동일하게 작아짐.. (dropout 3번, 30%)\n",
    "-> drop out (3번 20%)\n",
    "\n",
    "# 02\n",
    "lr = 23e-5\n",
    "batch_size = 256\n",
    "epochs = 300\n",
    "prune_term = 100\n",
    "prune_rate = 0.3\n",
    "dropout = 0.2  (3번)\n",
    "\n",
    "## lr\n",
    "그래프가 과적합\n",
    "-> 2e-4\n",
    "\n",
    "## batch\n",
    "좀 줄여도 될듯?\n",
    "-> 128\n",
    "\n",
    "## epoch\n",
    "90 이후로 진전이 거의 없음\n",
    "-> layer 변경 (conv3 (64 -> 128), fc2 ((1024, 64) -> (2048, 256))) / epoch 늘리기\n",
    "\n",
    "## prune\n",
    "150마다, 0.2 (prune은 경량화지, 성능 향상과는 조오금 무관)\n",
    "\n",
    "## drop out (normalizaion)\n",
    "정규화가 조금 덜됨. train/test acc 차이 발생, 좀만 더 늘리자\n",
    "-> 20% (4개)\n",
    "\n",
    "## 방안, 성능이 정체되어 수렴하면, 에폭을 줄이지 말고 정규화 + 모델구조변경/lr높이기\n",
    "\n",
    "# 03\n",
    "lr = 2e-4\n",
    "batch_size = 128\n",
    "epochs = 400\n",
    "prune_term = 150\n",
    "prune_rate = 0.3"
   ]
  },
  {
   "cell_type": "code",
   "execution_count": 113,
   "metadata": {},
   "outputs": [
    {
     "name": "stdout",
     "output_type": "stream",
     "text": [
      "80375\n",
      "sparsity: 65.70%\n"
     ]
    }
   ],
   "source": [
    "# prune rate\n",
    "prune_num = 0\n",
    "total_num = 0\n",
    "\n",
    "for _, module in model.named_modules():\n",
    "    if isinstance(module, nn.Conv2d) or isinstance(module, nn.Linear):\n",
    "        prune_num += torch.sum(module.weight == 0)\n",
    "        total_num += module.weight.nelement()\n",
    "\n",
    "print(prune_num.item())\n",
    "print(f'sparsity: {(prune_num / total_num) * 100:.2f}%')"
   ]
  },
  {
   "cell_type": "code",
   "execution_count": 115,
   "metadata": {},
   "outputs": [
    {
     "data": {
      "text/plain": [
       "<matplotlib.legend.Legend at 0x397e8c8e0>"
      ]
     },
     "execution_count": 115,
     "metadata": {},
     "output_type": "execute_result"
    },
    {
     "data": {
      "image/png": "[encoded data removed]",
      "text/plain": [
       "<Figure size 640x480 with 2 Axes>"
      ]
     },
     "metadata": {},
     "output_type": "display_data"
    }
   ],
   "source": [
    "# plot by epoch\n",
    "fig, ax = plt.subplots(2,1)\n",
    "\n",
    "# loss\n",
    "ax[0].plot(tr_losses, label='Train')\n",
    "ax[0].plot(ts_losses, label='Test')\n",
    "ax[0].set_xlabel('Epoch')\n",
    "ax[0].set_ylabel('Loss')\n",
    "ax[0].legend()\n",
    "\n",
    "# acc\n",
    "ax[1].plot(tr_accs, label='Test')\n",
    "ax[1].plot(ts_accs, label='Test')\n",
    "ax[1].set_xlabel('Epoch')\n",
    "ax[1].set_ylabel('Accuracy')\n",
    "ax[1].legend()"
   ]
  },
  {
   "cell_type": "markdown",
   "metadata": {},
   "source": [
    "## 성능향상하기\n",
    "\n",
    "1. 변경 사항들을 모델 구성에 적용하여 다양한 하이퍼파라미터 조합의 실험을 진행할 수 있습니다.\n",
    "\n",
    "2. 실험을 통해 각 하이퍼파라미터가 모델 성능에 미치는 영향을 분석하는 것이 중요합니다. (즉, 여러번 실험해야 함)\n",
    "\n",
    "\n",
    "        1. 학습률 (Learning Rate)\n",
    "        - 낮은 학습률: 모델이 최적점에 도달하는데 더 오래 걸릴 수 있습니다. 하지만 너무 낮으면 학습이 충분히 진행되지 않을 수 있습니다.\n",
    "        - 높은 학습률: 학습이 빠르게 진행되지만, 너무 높으면 최적점을 지나쳐 발산할 수 있습니다. 즉, 모델이 수렴하지 못하고 성능이 저하될 수 있습니다.\n",
    "\n",
    "\n",
    "        2. 배치 크기 (Batch Size)\n",
    "        - 작은 배치 크기: 더 자주 업데이트되어 학습이 빨라질 수 있지만, 불안정한 학습 경향을 보일 수 있습니다. 또한 과적합의 위험이 높아질 수 있습니다.\n",
    "        - 큰 배치 크기: 메모리 사용량이 증가하고, 학습 시간이 감소할 수 있지만, 일반화 성능이 저하될 수 있습니다.\n",
    "\n",
    "\n",
    "        3. 에포크 수 (Number of Epochs)\n",
    "        - 적은 에포크 수: 모델이 충분히 학습되지 않아 성능이 낮을 수 있습니다.\n",
    "        - 많은 에포크 수: 모델이 더 잘 학습되지만, 너무 많으면 과적합(모델이 훈련 데이터에 지나치게 최적화되어 새로운 데이터에서 성능이 저하됨)의 위험이 있습니다.\n",
    "\n",
    "\n",
    "        4. 은닉층의 뉴런 수 (Number of Neurons in Hidden Layers)\n",
    "        - 적은 뉴런 수: 모델이 데이터의 복잡성을 충분히 포착하지 못할 수 있습니다. 즉, 모델의 용량이 낮아져 학습이 제한될 수 있습니다.\n",
    "        - 많은 뉴런 수: 모델이 더 복잡한 패턴을 학습할 수 있지만, 계산 비용이 증가하고 과적합의 위험이 높아질 수 있습니다.\n",
    "\n",
    "\n",
    "        5. 드롭아웃 비율 (Dropout Rate)\n",
    "        - 낮은 드롭아웃 비율: 드롭아웃의 효과가 미미할 수 있으며, 과적합의 위험이 존재합니다.\n",
    "        - 높은 드롭아웃 비율: 과적합을 방지할 수 있지만, 너무 높으면 네트워크가 데이터의 중요한 패턴을 학습하는 데 방해가 될 수 있습니다."
   ]
  }
 ],
 "metadata": {
  "kernelspec": {
   "display_name": "img2023",
   "language": "python",
   "name": "python3"
  },
  "language_info": {
   "codemirror_mode": {
    "name": "ipython",
    "version": 3
   },
   "file_extension": ".py",
   "mimetype": "text/x-python",
   "name": "python",
   "nbconvert_exporter": "python",
   "pygments_lexer": "ipython3",
   "version": "3.9.19"
  }
 },
 "nbformat": 4,
 "nbformat_minor": 2
}
